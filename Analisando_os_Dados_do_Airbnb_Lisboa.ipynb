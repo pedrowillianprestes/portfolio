{
  "nbformat": 4,
  "nbformat_minor": 0,
  "metadata": {
    "colab": {
      "provenance": [],
      "include_colab_link": true
    },
    "kernelspec": {
      "name": "python3",
      "display_name": "Python 3"
    }
  },
  "cells": [
    {
      "cell_type": "markdown",
      "metadata": {
        "id": "view-in-github",
        "colab_type": "text"
      },
      "source": [
        "<a href=\"https://colab.research.google.com/github/pedrowillianprestes/portfolio/blob/main/Analisando_os_Dados_do_Airbnb_Lisboa.ipynb\" target=\"_parent\"><img src=\"https://colab.research.google.com/assets/colab-badge.svg\" alt=\"Open In Colab\"/></a>"
      ]
    },
    {
      "cell_type": "markdown",
      "metadata": {
        "id": "kLI0gJtzDGuQ"
      },
      "source": [
        "<img alt=\"Colaboratory logo\" width=\"15%\" src=\"https://raw.githubusercontent.com/carlosfab/escola-data-science/master/img/novo_logo_bg_claro.png\">\n",
        "\n",
        "#### **Data Science na Prática 3.0**\n",
        "*by [sigmoidal.ai](https://sigmoidal.ai)*\n",
        "\n",
        "---\n",
        "\n",
        "# Análise dos Dados do Airbnb - Lisboa, Portugal.\n",
        "\n",
        "O [Airbnb](https://www.airbnb.com.br/) já é considerado como sendo a **maior empresa hoteleira da atualidade**. Ah, o detalhe é que ele **não possui nenhum hotel**!\n",
        "\n",
        "Conectando pessoas que querem viajar (e se hospedar) com anfitriões que querem alugar seus imóveis de maneira prática, o Airbnb fornece uma plataforma inovadora para tornar essa hospedagem alternativa.\n",
        "\n",
        "No final de 2018, a Startup fundada 10 anos atrás, já havia **hospedado mais de 300 milhões** de pessoas ao redor de todo o mundo, desafiando as redes hoteleiras tradicionais.\n",
        "\n",
        "Uma das iniciativas do Airbnb é disponibilizar dados do site, para algumas das principais cidades do mundo. Por meio do portal [Inside Airbnb](http://insideairbnb.com/get-the-data.html), é possível baixar uma grande quantidade de dados para desenvolver projetos e soluções de *Data Science*.\n",
        "\n",
        "<center><img alt=\"Analisando Airbnb\" width=\"10%\" src=\"https://www.area360.com.au/wp-content/uploads/2017/09/airbnb-logo.jpg\"></center>\n",
        "\n",
        "**Neste *notebook*, iremos analisar os dados referentes à cidade Lisboa, e ver quais insights podem ser extraídos a partir de dados brutos.**\n",
        "\n",
        "# <center> Breve Introdução sobre a Cidade de Lisboa<center>\n",
        "\n",
        "<center><img alt=\"Dublin\" width=\"75%\" src=\"https://github.com/pedrowillianprestes/sigmoidal_data_science/blob/main/foto-lisboa.jpg?raw=true\"></center>\n",
        "\n",
        "A cidade de Lisboa pode ser considerada como uma cidade global devido a sua relevância em aspectos econômicos, turísticos e educacionais. \n",
        "\n",
        "Pode ser considerada o maior centro econômico do continente europeu em função do maior porto da costa atlântica da Europa e o aeroporto Humberto Delgado, que recebe cerca de 20 milhões de pessoas anualmente.\n",
        "\n",
        "A Travelbook, a maior publicação digital de viagens da Alemanha, escolheu Lisboa como o melhor destino na categoria “cidades” pelo seu “desenvolvimento positivo” na área da sustentabilidade e pelas “muitas atrações e atividades” em 2022."
      ]
    },
    {
      "cell_type": "markdown",
      "metadata": {
        "id": "0zxQHhIUDF_2"
      },
      "source": [
        "## Obtenção dos Dados\n",
        "\n",
        "Todos os dados usados aqui foram obtidos a partir do site [Inside Airbnb](http://insideairbnb.com/get-the-data.html).\n",
        "\n",
        "Para esta análise exploratória inicial, será baixado apenas o seguinte arquivo:\n",
        "\n",
        "* `listings.csv` - *Summary information and metrics for listings in Lisboa (good for visualisations).*\n",
        "\n",
        "Importante: O portal está em constante evolução, e em determinado momento, pode ser que o [conjunto de dados](http://data.insideairbnb.com/portugal/lisbon/lisbon/2022-09-13/visualisations/listings.csv) exato utilizado nesse notebook não esteja mais disponível, o que quebraria nosso código.\n",
        "\n",
        "Pensando nisso, disponibilizamos [aqui](https://www.dropbox.com/s/15i4eztx1uef09a/lisboa.csv?dl=1) o conjunto que utilizamos, para que você sempre consiga utilizar esse material.\n",
        "\n",
        "Com isso em mente, vamos ao projeto.\n",
        "\n",
        "Para efeito de análise, utilizaremos as seguintes bibliotecas:\n",
        "* **Pandas** - biblioteca responsável pela manipulação dos dados;\n",
        "* **Matplotlib e Seaborn** - biblioteca respnsável pela visualização dos dados."
      ]
    },
    {
      "cell_type": "code",
      "metadata": {
        "id": "Vhp2wMPgJ6zX"
      },
      "source": [
        "# importar os pacotes necessarios\n",
        "import pandas as pd\n",
        "import matplotlib.pyplot as plt\n",
        "import seaborn as sns\n",
        "\n",
        "%matplotlib inline"
      ],
      "execution_count": 1,
      "outputs": []
    },
    {
      "cell_type": "code",
      "metadata": {
        "id": "tUmoAT8DLQ5T"
      },
      "source": [
        "# importar o arquivo listings.csv para um DataFrame\n",
        "\n",
        "df = pd.read_csv(\"https://www.dropbox.com/s/15i4eztx1uef09a/lisboa.csv?dl=1\")\n"
      ],
      "execution_count": 2,
      "outputs": []
    },
    {
      "cell_type": "markdown",
      "metadata": {
        "id": "qb5By2nIMS6m"
      },
      "source": [
        "## Análise dos Dados\n"
      ]
    },
    {
      "cell_type": "markdown",
      "source": [
        "Antes de iniciar a análise dos dados obtidos, é necessário primeiro conhecer a estrutura dos dados com objetivo de entender o que significa cada coluna do *dataset*."
      ],
      "metadata": {
        "id": "rEU87O8aC1YC"
      }
    },
    {
      "cell_type": "markdown",
      "metadata": {
        "id": "RYgvuebKNg8-"
      },
      "source": [
        "**Dicionário das variáveis**\n",
        "\n",
        "* `id` - número de id gerado para identificar o imóvel\n",
        "* `name` - nome da propriedade anunciada\n",
        "* `host_id` - número de id do proprietário (anfitrião) da propriedade\n",
        "* `host_name` - Nome do anfitrião\n",
        "* `neighbourhood_group` - esta coluna não contém nenhum valor válido\n",
        "* `neighbourhood` - nome do bairro\n",
        "* `latitude` - coordenada da latitude da propriedade\n",
        "* `longitude` - coordenada da longitude da propriedade\n",
        "* `room_type` - informa o tipo de quarto que é oferecido\n",
        "* `price` - preço para alugar o imóvel\n",
        "* `minimum_nights` - quantidade mínima de noites para reservar\n",
        "* `number_of_reviews` - número de reviews que a propriedade possui\n",
        "* `last_review` - data do último review\n",
        "* `reviews_per_month` - quantidade de reviews por mês\n",
        "* `calculated_host_listings_count` - quantidade de imóveis do mesmo anfitrião\n",
        "* `availability_365` - número de dias de disponibilidade dentro de 365 dias\n"
      ]
    },
    {
      "cell_type": "markdown",
      "source": [
        "Após entendermos o que significa cada coluna, realizaremos a etapa de verificação das 5 primeiras colunas para entendermos como o dataset está organizado na parte dos dados.\n"
      ],
      "metadata": {
        "id": "ESoWB-udDCwE"
      }
    },
    {
      "cell_type": "code",
      "metadata": {
        "id": "2iS_dae7YQtO",
        "colab": {
          "base_uri": "https://localhost:8080/",
          "height": 206
        },
        "outputId": "2b3cb19a-6cec-4653-f95f-c6a3a4b1395a"
      },
      "source": [
        "# mostrar as 5 primeiras entradas\n",
        "df.head()"
      ],
      "execution_count": 3,
      "outputs": [
        {
          "output_type": "execute_result",
          "data": {
            "text/plain": [
              "         id                                               name    host_id  \\\n",
              "0      6499               Belém 1 Bedroom Historical Apartment      14455   \n",
              "1  36664873  Casa Ferry Holiday House Lisbon 15min & Beach ...  275575455   \n",
              "2  25345952       La maison de la plage, et de la tranquillité  175971197   \n",
              "3     25659   Heart of Alfama Lisbon Center - Cœur de l'Alfama     107347   \n",
              "4  28283003     Apartamento no Coração da Aldeia/ Flat to Rent  213594711   \n",
              "\n",
              "  host_name neighbourhood_group      neighbourhood   latitude  longitude  \\\n",
              "0     Bruno              Lisboa               Belm  38.697500  -9.197680   \n",
              "1     Joana              Lisboa               Belm  38.671280  -9.230640   \n",
              "2    Ramiro             Lourinh  Lourinh e Atalaia  39.306640  -9.337600   \n",
              "3     Ellie              Lisboa  Santa Maria Maior  38.712410  -9.127060   \n",
              "4     Jorge             Lourinh  Lourinh e Atalaia  39.308548  -9.338993   \n",
              "\n",
              "         room_type  price  minimum_nights  number_of_reviews last_review  \\\n",
              "0  Entire home/apt     69               3                 44  2022-08-09   \n",
              "1  Entire home/apt     95               2                 21  2022-09-03   \n",
              "2  Entire home/apt     65               5                 37  2022-08-18   \n",
              "3  Entire home/apt     54               2                166  2022-09-11   \n",
              "4  Entire home/apt     59               3                 12  2022-08-29   \n",
              "\n",
              "   reviews_per_month  calculated_host_listings_count  availability_365  \\\n",
              "0               0.45                               1               195   \n",
              "1               0.56                               1                72   \n",
              "2               0.89                               2               269   \n",
              "3               1.62                               1               304   \n",
              "4               0.27                               3               170   \n",
              "\n",
              "   number_of_reviews_ltm    license  \n",
              "0                     15        NaN  \n",
              "1                      8   42622/AL  \n",
              "2                     16     Exempt  \n",
              "3                     45  56539/AL.  \n",
              "4                      5   84329/AL  "
            ],
            "text/html": [
              "\n",
              "  <div id=\"df-25cd1457-c8ea-4d30-8246-0e14d540d001\">\n",
              "    <div class=\"colab-df-container\">\n",
              "      <div>\n",
              "<style scoped>\n",
              "    .dataframe tbody tr th:only-of-type {\n",
              "        vertical-align: middle;\n",
              "    }\n",
              "\n",
              "    .dataframe tbody tr th {\n",
              "        vertical-align: top;\n",
              "    }\n",
              "\n",
              "    .dataframe thead th {\n",
              "        text-align: right;\n",
              "    }\n",
              "</style>\n",
              "<table border=\"1\" class=\"dataframe\">\n",
              "  <thead>\n",
              "    <tr style=\"text-align: right;\">\n",
              "      <th></th>\n",
              "      <th>id</th>\n",
              "      <th>name</th>\n",
              "      <th>host_id</th>\n",
              "      <th>host_name</th>\n",
              "      <th>neighbourhood_group</th>\n",
              "      <th>neighbourhood</th>\n",
              "      <th>latitude</th>\n",
              "      <th>longitude</th>\n",
              "      <th>room_type</th>\n",
              "      <th>price</th>\n",
              "      <th>minimum_nights</th>\n",
              "      <th>number_of_reviews</th>\n",
              "      <th>last_review</th>\n",
              "      <th>reviews_per_month</th>\n",
              "      <th>calculated_host_listings_count</th>\n",
              "      <th>availability_365</th>\n",
              "      <th>number_of_reviews_ltm</th>\n",
              "      <th>license</th>\n",
              "    </tr>\n",
              "  </thead>\n",
              "  <tbody>\n",
              "    <tr>\n",
              "      <th>0</th>\n",
              "      <td>6499</td>\n",
              "      <td>Belém 1 Bedroom Historical Apartment</td>\n",
              "      <td>14455</td>\n",
              "      <td>Bruno</td>\n",
              "      <td>Lisboa</td>\n",
              "      <td>Belm</td>\n",
              "      <td>38.697500</td>\n",
              "      <td>-9.197680</td>\n",
              "      <td>Entire home/apt</td>\n",
              "      <td>69</td>\n",
              "      <td>3</td>\n",
              "      <td>44</td>\n",
              "      <td>2022-08-09</td>\n",
              "      <td>0.45</td>\n",
              "      <td>1</td>\n",
              "      <td>195</td>\n",
              "      <td>15</td>\n",
              "      <td>NaN</td>\n",
              "    </tr>\n",
              "    <tr>\n",
              "      <th>1</th>\n",
              "      <td>36664873</td>\n",
              "      <td>Casa Ferry Holiday House Lisbon 15min &amp; Beach ...</td>\n",
              "      <td>275575455</td>\n",
              "      <td>Joana</td>\n",
              "      <td>Lisboa</td>\n",
              "      <td>Belm</td>\n",
              "      <td>38.671280</td>\n",
              "      <td>-9.230640</td>\n",
              "      <td>Entire home/apt</td>\n",
              "      <td>95</td>\n",
              "      <td>2</td>\n",
              "      <td>21</td>\n",
              "      <td>2022-09-03</td>\n",
              "      <td>0.56</td>\n",
              "      <td>1</td>\n",
              "      <td>72</td>\n",
              "      <td>8</td>\n",
              "      <td>42622/AL</td>\n",
              "    </tr>\n",
              "    <tr>\n",
              "      <th>2</th>\n",
              "      <td>25345952</td>\n",
              "      <td>La maison de la plage, et de la tranquillité</td>\n",
              "      <td>175971197</td>\n",
              "      <td>Ramiro</td>\n",
              "      <td>Lourinh</td>\n",
              "      <td>Lourinh e Atalaia</td>\n",
              "      <td>39.306640</td>\n",
              "      <td>-9.337600</td>\n",
              "      <td>Entire home/apt</td>\n",
              "      <td>65</td>\n",
              "      <td>5</td>\n",
              "      <td>37</td>\n",
              "      <td>2022-08-18</td>\n",
              "      <td>0.89</td>\n",
              "      <td>2</td>\n",
              "      <td>269</td>\n",
              "      <td>16</td>\n",
              "      <td>Exempt</td>\n",
              "    </tr>\n",
              "    <tr>\n",
              "      <th>3</th>\n",
              "      <td>25659</td>\n",
              "      <td>Heart of Alfama Lisbon Center - Cœur de l'Alfama</td>\n",
              "      <td>107347</td>\n",
              "      <td>Ellie</td>\n",
              "      <td>Lisboa</td>\n",
              "      <td>Santa Maria Maior</td>\n",
              "      <td>38.712410</td>\n",
              "      <td>-9.127060</td>\n",
              "      <td>Entire home/apt</td>\n",
              "      <td>54</td>\n",
              "      <td>2</td>\n",
              "      <td>166</td>\n",
              "      <td>2022-09-11</td>\n",
              "      <td>1.62</td>\n",
              "      <td>1</td>\n",
              "      <td>304</td>\n",
              "      <td>45</td>\n",
              "      <td>56539/AL.</td>\n",
              "    </tr>\n",
              "    <tr>\n",
              "      <th>4</th>\n",
              "      <td>28283003</td>\n",
              "      <td>Apartamento no Coração da Aldeia/ Flat to Rent</td>\n",
              "      <td>213594711</td>\n",
              "      <td>Jorge</td>\n",
              "      <td>Lourinh</td>\n",
              "      <td>Lourinh e Atalaia</td>\n",
              "      <td>39.308548</td>\n",
              "      <td>-9.338993</td>\n",
              "      <td>Entire home/apt</td>\n",
              "      <td>59</td>\n",
              "      <td>3</td>\n",
              "      <td>12</td>\n",
              "      <td>2022-08-29</td>\n",
              "      <td>0.27</td>\n",
              "      <td>3</td>\n",
              "      <td>170</td>\n",
              "      <td>5</td>\n",
              "      <td>84329/AL</td>\n",
              "    </tr>\n",
              "  </tbody>\n",
              "</table>\n",
              "</div>\n",
              "      <button class=\"colab-df-convert\" onclick=\"convertToInteractive('df-25cd1457-c8ea-4d30-8246-0e14d540d001')\"\n",
              "              title=\"Convert this dataframe to an interactive table.\"\n",
              "              style=\"display:none;\">\n",
              "        \n",
              "  <svg xmlns=\"http://www.w3.org/2000/svg\" height=\"24px\"viewBox=\"0 0 24 24\"\n",
              "       width=\"24px\">\n",
              "    <path d=\"M0 0h24v24H0V0z\" fill=\"none\"/>\n",
              "    <path d=\"M18.56 5.44l.94 2.06.94-2.06 2.06-.94-2.06-.94-.94-2.06-.94 2.06-2.06.94zm-11 1L8.5 8.5l.94-2.06 2.06-.94-2.06-.94L8.5 2.5l-.94 2.06-2.06.94zm10 10l.94 2.06.94-2.06 2.06-.94-2.06-.94-.94-2.06-.94 2.06-2.06.94z\"/><path d=\"M17.41 7.96l-1.37-1.37c-.4-.4-.92-.59-1.43-.59-.52 0-1.04.2-1.43.59L10.3 9.45l-7.72 7.72c-.78.78-.78 2.05 0 2.83L4 21.41c.39.39.9.59 1.41.59.51 0 1.02-.2 1.41-.59l7.78-7.78 2.81-2.81c.8-.78.8-2.07 0-2.86zM5.41 20L4 18.59l7.72-7.72 1.47 1.35L5.41 20z\"/>\n",
              "  </svg>\n",
              "      </button>\n",
              "      \n",
              "  <style>\n",
              "    .colab-df-container {\n",
              "      display:flex;\n",
              "      flex-wrap:wrap;\n",
              "      gap: 12px;\n",
              "    }\n",
              "\n",
              "    .colab-df-convert {\n",
              "      background-color: #E8F0FE;\n",
              "      border: none;\n",
              "      border-radius: 50%;\n",
              "      cursor: pointer;\n",
              "      display: none;\n",
              "      fill: #1967D2;\n",
              "      height: 32px;\n",
              "      padding: 0 0 0 0;\n",
              "      width: 32px;\n",
              "    }\n",
              "\n",
              "    .colab-df-convert:hover {\n",
              "      background-color: #E2EBFA;\n",
              "      box-shadow: 0px 1px 2px rgba(60, 64, 67, 0.3), 0px 1px 3px 1px rgba(60, 64, 67, 0.15);\n",
              "      fill: #174EA6;\n",
              "    }\n",
              "\n",
              "    [theme=dark] .colab-df-convert {\n",
              "      background-color: #3B4455;\n",
              "      fill: #D2E3FC;\n",
              "    }\n",
              "\n",
              "    [theme=dark] .colab-df-convert:hover {\n",
              "      background-color: #434B5C;\n",
              "      box-shadow: 0px 1px 3px 1px rgba(0, 0, 0, 0.15);\n",
              "      filter: drop-shadow(0px 1px 2px rgba(0, 0, 0, 0.3));\n",
              "      fill: #FFFFFF;\n",
              "    }\n",
              "  </style>\n",
              "\n",
              "      <script>\n",
              "        const buttonEl =\n",
              "          document.querySelector('#df-25cd1457-c8ea-4d30-8246-0e14d540d001 button.colab-df-convert');\n",
              "        buttonEl.style.display =\n",
              "          google.colab.kernel.accessAllowed ? 'block' : 'none';\n",
              "\n",
              "        async function convertToInteractive(key) {\n",
              "          const element = document.querySelector('#df-25cd1457-c8ea-4d30-8246-0e14d540d001');\n",
              "          const dataTable =\n",
              "            await google.colab.kernel.invokeFunction('convertToInteractive',\n",
              "                                                     [key], {});\n",
              "          if (!dataTable) return;\n",
              "\n",
              "          const docLinkHtml = 'Like what you see? Visit the ' +\n",
              "            '<a target=\"_blank\" href=https://colab.research.google.com/notebooks/data_table.ipynb>data table notebook</a>'\n",
              "            + ' to learn more about interactive tables.';\n",
              "          element.innerHTML = '';\n",
              "          dataTable['output_type'] = 'display_data';\n",
              "          await google.colab.output.renderOutput(dataTable, element);\n",
              "          const docLink = document.createElement('div');\n",
              "          docLink.innerHTML = docLinkHtml;\n",
              "          element.appendChild(docLink);\n",
              "        }\n",
              "      </script>\n",
              "    </div>\n",
              "  </div>\n",
              "  "
            ]
          },
          "metadata": {},
          "execution_count": 3
        }
      ]
    },
    {
      "cell_type": "markdown",
      "metadata": {
        "id": "6-B_qtEaYEd-"
      },
      "source": [
        "### **Q1. Quantos atributos (variáveis) e quantas entradas o nosso conjunto de dados possui? Quais os tipos das variáveis?**\n",
        "\n",
        "Vamos prosseguir e identificar a quantidade de entradas que nosso conjunto de dados possui e ver os tipos de cada coluna.\n",
        "Este dataset que baixamos é a versão \"resumida\" do Airbnb. Na mesma página que baixamos o arquivo listings.csv. Há uma versão mais completa"
      ]
    },
    {
      "cell_type": "code",
      "metadata": {
        "id": "TFRK0tniLV-G",
        "colab": {
          "base_uri": "https://localhost:8080/",
          "height": 399
        },
        "outputId": "2abd26e4-bb25-4518-e2c8-4e41cae60e1c"
      },
      "source": [
        "# identificar o volume de dados do DataFrame\n",
        "print(\"Entradas:\\t {}\".format(df.shape[0]))\n",
        "print(\"Variáveis:\\t {}\\n\".format(df.shape[1]))\n",
        "\n",
        "# visualizar as variaveis e seus tipos\n",
        "display(df.dtypes)"
      ],
      "execution_count": 4,
      "outputs": [
        {
          "output_type": "stream",
          "name": "stdout",
          "text": [
            "Entradas:\t 19651\n",
            "Variáveis:\t 18\n",
            "\n"
          ]
        },
        {
          "output_type": "display_data",
          "data": {
            "text/plain": [
              "id                                  int64\n",
              "name                               object\n",
              "host_id                             int64\n",
              "host_name                          object\n",
              "neighbourhood_group                object\n",
              "neighbourhood                      object\n",
              "latitude                          float64\n",
              "longitude                         float64\n",
              "room_type                          object\n",
              "price                               int64\n",
              "minimum_nights                      int64\n",
              "number_of_reviews                   int64\n",
              "last_review                        object\n",
              "reviews_per_month                 float64\n",
              "calculated_host_listings_count      int64\n",
              "availability_365                    int64\n",
              "number_of_reviews_ltm               int64\n",
              "license                            object\n",
              "dtype: object"
            ]
          },
          "metadata": {}
        }
      ]
    },
    {
      "cell_type": "markdown",
      "metadata": {
        "id": "yz1urSUGW9iE"
      },
      "source": [
        "### **Q2. Qual a porcentagem de valores ausentes no *dataset*?**\n",
        "\n",
        "A qualidade de um *dataset* está diretamente relacionada à quantidade de valores ausentes. É importante entender logo no início se esses valores nulos são significativos comparados ao total de entradas.\n",
        "\n",
        "* As variáveis `reviews_per_month` , `last_review` e `license` têm aproximadamente 1% dos valores nulos.\n",
        "* As variáveis `name` têm aproximadamente 0,1% dos valores nulos."
      ]
    },
    {
      "cell_type": "code",
      "metadata": {
        "id": "plk2FjbCXOqP",
        "colab": {
          "base_uri": "https://localhost:8080/"
        },
        "outputId": "bf07b8b3-9057-4b75-ff60-10fe686a7755"
      },
      "source": [
        "# ordenar em ordem decrescente as variáveis por seus valores ausentes em porcentagem\n",
        "(df.isnull().sum() / df.shape[0]).sort_values(ascending=False)"
      ],
      "execution_count": 5,
      "outputs": [
        {
          "output_type": "execute_result",
          "data": {
            "text/plain": [
              "reviews_per_month                 0.098417\n",
              "last_review                       0.098417\n",
              "license                           0.069309\n",
              "name                              0.000407\n",
              "number_of_reviews_ltm             0.000000\n",
              "availability_365                  0.000000\n",
              "calculated_host_listings_count    0.000000\n",
              "number_of_reviews                 0.000000\n",
              "minimum_nights                    0.000000\n",
              "id                                0.000000\n",
              "room_type                         0.000000\n",
              "longitude                         0.000000\n",
              "latitude                          0.000000\n",
              "neighbourhood                     0.000000\n",
              "neighbourhood_group               0.000000\n",
              "host_name                         0.000000\n",
              "host_id                           0.000000\n",
              "price                             0.000000\n",
              "dtype: float64"
            ]
          },
          "metadata": {},
          "execution_count": 5
        }
      ]
    },
    {
      "cell_type": "code",
      "source": [
        "# verificando a quantidade de dados ausentes\n",
        "(df.isnull().sum()).sort_values(ascending=False)"
      ],
      "metadata": {
        "colab": {
          "base_uri": "https://localhost:8080/"
        },
        "id": "DA-57fBqQD_A",
        "outputId": "c70c699b-01d1-44ce-fe8d-860993519caa"
      },
      "execution_count": 6,
      "outputs": [
        {
          "output_type": "execute_result",
          "data": {
            "text/plain": [
              "reviews_per_month                 1934\n",
              "last_review                       1934\n",
              "license                           1362\n",
              "name                                 8\n",
              "number_of_reviews_ltm                0\n",
              "availability_365                     0\n",
              "calculated_host_listings_count       0\n",
              "number_of_reviews                    0\n",
              "minimum_nights                       0\n",
              "id                                   0\n",
              "room_type                            0\n",
              "longitude                            0\n",
              "latitude                             0\n",
              "neighbourhood                        0\n",
              "neighbourhood_group                  0\n",
              "host_name                            0\n",
              "host_id                              0\n",
              "price                                0\n",
              "dtype: int64"
            ]
          },
          "metadata": {},
          "execution_count": 6
        }
      ]
    },
    {
      "cell_type": "markdown",
      "source": [
        "#### **Exclusão de valores ausentes**\n",
        "Para a nossa análise vamos excluir os campos com valores ausentes.\n",
        "\n",
        "**Colunas** com baixo poder preditivo e grande quantidade de dados faltantes podem ser excluídas.\n",
        "\n",
        "Iremos excluir as colunas 'reviews_per_month', 'last_review' e 'license' devido conter uma certa quantidade de valores ausentes e a não utilização das mesmas em nossa análise.\n",
        "\n",
        "Em relação a coluna 'name' que está com poucas entradas faltantes, a eliminação destas entradas não parecem ter grande poder preditivo. Mais uma vez, vamos fazer a exclusão. Porém, aqui vamos excluir as linhas."
      ],
      "metadata": {
        "id": "H-XIeOJdzMdr"
      }
    },
    {
      "cell_type": "code",
      "source": [
        "# excluindo colunas com dados faltantes\n",
        "df.drop(columns=['reviews_per_month', 'last_review', 'license'], inplace=True)\n",
        "\n",
        "# excluindo entradas com dados faltantes\n",
        "df.dropna(axis=0, inplace=True)\n"
      ],
      "metadata": {
        "id": "qzUVpNhjRBKG"
      },
      "execution_count": 7,
      "outputs": []
    },
    {
      "cell_type": "code",
      "source": [
        "# verificando o resultado\n",
        "(df.isnull().sum()).sort_values(ascending=False)"
      ],
      "metadata": {
        "colab": {
          "base_uri": "https://localhost:8080/"
        },
        "id": "osfijCu6U5W7",
        "outputId": "73b8c914-bd31-484e-b926-7a5fb10837e1"
      },
      "execution_count": 8,
      "outputs": [
        {
          "output_type": "execute_result",
          "data": {
            "text/plain": [
              "id                                0\n",
              "name                              0\n",
              "host_id                           0\n",
              "host_name                         0\n",
              "neighbourhood_group               0\n",
              "neighbourhood                     0\n",
              "latitude                          0\n",
              "longitude                         0\n",
              "room_type                         0\n",
              "price                             0\n",
              "minimum_nights                    0\n",
              "number_of_reviews                 0\n",
              "calculated_host_listings_count    0\n",
              "availability_365                  0\n",
              "number_of_reviews_ltm             0\n",
              "dtype: int64"
            ]
          },
          "metadata": {},
          "execution_count": 8
        }
      ]
    },
    {
      "cell_type": "markdown",
      "source": [
        "Agora não temos nenhuma variavel com valores ausentes."
      ],
      "metadata": {
        "id": "A7b64pjz5PKS"
      }
    },
    {
      "cell_type": "markdown",
      "metadata": {
        "id": "iHXvvHIxaoNc"
      },
      "source": [
        "### **Q3. Qual o tipo de distribuição das variáveis?** \n",
        "\n",
        "Para identificar a distribuição das variáveis, irei plotar o histograma."
      ]
    },
    {
      "cell_type": "code",
      "metadata": {
        "id": "q2wWSfeRbmBo",
        "colab": {
          "base_uri": "https://localhost:8080/",
          "height": 607
        },
        "outputId": "2b6131c1-c149-4fee-d498-06cf30a42a59"
      },
      "source": [
        "# plotar o histograma das variáveis numéricas\n",
        "df.hist(bins=15, figsize=(15,10));"
      ],
      "execution_count": 9,
      "outputs": [
        {
          "output_type": "display_data",
          "data": {
            "text/plain": [
              "<Figure size 1080x720 with 12 Axes>"
            ],
            "image/png": "[encoded data removed]"
          },
          "metadata": {
            "needs_background": "light"
          }
        }
      ]
    },
    {
      "cell_type": "markdown",
      "metadata": {
        "id": "7x4aw1j5wNmn"
      },
      "source": [
        "### **Q4. Qual a média dos preços de aluguel?**\n",
        "\n",
        "O foco da análise será dado em relação a variáveis **price** e **minimum_nights**.\n",
        "\n",
        "Utilizando como base o histograma plotado destas variáveis conseguimos notar que elas não seguem uma distribuição e distorcem o histograma, portanto é um grande indicativo de presença de outliers.\n",
        "\n",
        "Para nos auxiliar, vamos utilizar duas ferramentas para detecção de outliers:\n",
        "* Resumo estatístico por meio do método **describe()**,\n",
        "* Análise por meio do **boxplot**."
      ]
    },
    {
      "cell_type": "markdown",
      "source": [
        "####Resumo estatístico"
      ],
      "metadata": {
        "id": "5gtNSu3fOCTc"
      }
    },
    {
      "cell_type": "code",
      "source": [
        "# ver o resumo estatístico das variáveis numéricas\n",
        "df[['price', 'minimum_nights']].describe().round(1)"
      ],
      "metadata": {
        "colab": {
          "base_uri": "https://localhost:8080/",
          "height": 300
        },
        "id": "ujPv6apCxDiS",
        "outputId": "364d04cc-df72-476c-822a-144e95439dbe"
      },
      "execution_count": 68,
      "outputs": [
        {
          "output_type": "execute_result",
          "data": {
            "text/plain": [
              "         price  minimum_nights\n",
              "count  19643.0         19643.0\n",
              "mean     142.8             4.0\n",
              "std      298.5            15.5\n",
              "min        0.0             1.0\n",
              "25%       69.0             1.0\n",
              "50%      100.0             2.0\n",
              "75%      152.0             3.0\n",
              "max    22000.0          1000.0"
            ],
            "text/html": [
              "\n",
              "  <div id=\"df-97bc112c-3387-49df-82f4-26a0ba28d25b\">\n",
              "    <div class=\"colab-df-container\">\n",
              "      <div>\n",
              "<style scoped>\n",
              "    .dataframe tbody tr th:only-of-type {\n",
              "        vertical-align: middle;\n",
              "    }\n",
              "\n",
              "    .dataframe tbody tr th {\n",
              "        vertical-align: top;\n",
              "    }\n",
              "\n",
              "    .dataframe thead th {\n",
              "        text-align: right;\n",
              "    }\n",
              "</style>\n",
              "<table border=\"1\" class=\"dataframe\">\n",
              "  <thead>\n",
              "    <tr style=\"text-align: right;\">\n",
              "      <th></th>\n",
              "      <th>price</th>\n",
              "      <th>minimum_nights</th>\n",
              "    </tr>\n",
              "  </thead>\n",
              "  <tbody>\n",
              "    <tr>\n",
              "      <th>count</th>\n",
              "      <td>19643.0</td>\n",
              "      <td>19643.0</td>\n",
              "    </tr>\n",
              "    <tr>\n",
              "      <th>mean</th>\n",
              "      <td>142.8</td>\n",
              "      <td>4.0</td>\n",
              "    </tr>\n",
              "    <tr>\n",
              "      <th>std</th>\n",
              "      <td>298.5</td>\n",
              "      <td>15.5</td>\n",
              "    </tr>\n",
              "    <tr>\n",
              "      <th>min</th>\n",
              "      <td>0.0</td>\n",
              "      <td>1.0</td>\n",
              "    </tr>\n",
              "    <tr>\n",
              "      <th>25%</th>\n",
              "      <td>69.0</td>\n",
              "      <td>1.0</td>\n",
              "    </tr>\n",
              "    <tr>\n",
              "      <th>50%</th>\n",
              "      <td>100.0</td>\n",
              "      <td>2.0</td>\n",
              "    </tr>\n",
              "    <tr>\n",
              "      <th>75%</th>\n",
              "      <td>152.0</td>\n",
              "      <td>3.0</td>\n",
              "    </tr>\n",
              "    <tr>\n",
              "      <th>max</th>\n",
              "      <td>22000.0</td>\n",
              "      <td>1000.0</td>\n",
              "    </tr>\n",
              "  </tbody>\n",
              "</table>\n",
              "</div>\n",
              "      <button class=\"colab-df-convert\" onclick=\"convertToInteractive('df-97bc112c-3387-49df-82f4-26a0ba28d25b')\"\n",
              "              title=\"Convert this dataframe to an interactive table.\"\n",
              "              style=\"display:none;\">\n",
              "        \n",
              "  <svg xmlns=\"http://www.w3.org/2000/svg\" height=\"24px\"viewBox=\"0 0 24 24\"\n",
              "       width=\"24px\">\n",
              "    <path d=\"M0 0h24v24H0V0z\" fill=\"none\"/>\n",
              "    <path d=\"M18.56 5.44l.94 2.06.94-2.06 2.06-.94-2.06-.94-.94-2.06-.94 2.06-2.06.94zm-11 1L8.5 8.5l.94-2.06 2.06-.94-2.06-.94L8.5 2.5l-.94 2.06-2.06.94zm10 10l.94 2.06.94-2.06 2.06-.94-2.06-.94-.94-2.06-.94 2.06-2.06.94z\"/><path d=\"M17.41 7.96l-1.37-1.37c-.4-.4-.92-.59-1.43-.59-.52 0-1.04.2-1.43.59L10.3 9.45l-7.72 7.72c-.78.78-.78 2.05 0 2.83L4 21.41c.39.39.9.59 1.41.59.51 0 1.02-.2 1.41-.59l7.78-7.78 2.81-2.81c.8-.78.8-2.07 0-2.86zM5.41 20L4 18.59l7.72-7.72 1.47 1.35L5.41 20z\"/>\n",
              "  </svg>\n",
              "      </button>\n",
              "      \n",
              "  <style>\n",
              "    .colab-df-container {\n",
              "      display:flex;\n",
              "      flex-wrap:wrap;\n",
              "      gap: 12px;\n",
              "    }\n",
              "\n",
              "    .colab-df-convert {\n",
              "      background-color: #E8F0FE;\n",
              "      border: none;\n",
              "      border-radius: 50%;\n",
              "      cursor: pointer;\n",
              "      display: none;\n",
              "      fill: #1967D2;\n",
              "      height: 32px;\n",
              "      padding: 0 0 0 0;\n",
              "      width: 32px;\n",
              "    }\n",
              "\n",
              "    .colab-df-convert:hover {\n",
              "      background-color: #E2EBFA;\n",
              "      box-shadow: 0px 1px 2px rgba(60, 64, 67, 0.3), 0px 1px 3px 1px rgba(60, 64, 67, 0.15);\n",
              "      fill: #174EA6;\n",
              "    }\n",
              "\n",
              "    [theme=dark] .colab-df-convert {\n",
              "      background-color: #3B4455;\n",
              "      fill: #D2E3FC;\n",
              "    }\n",
              "\n",
              "    [theme=dark] .colab-df-convert:hover {\n",
              "      background-color: #434B5C;\n",
              "      box-shadow: 0px 1px 3px 1px rgba(0, 0, 0, 0.15);\n",
              "      filter: drop-shadow(0px 1px 2px rgba(0, 0, 0, 0.3));\n",
              "      fill: #FFFFFF;\n",
              "    }\n",
              "  </style>\n",
              "\n",
              "      <script>\n",
              "        const buttonEl =\n",
              "          document.querySelector('#df-97bc112c-3387-49df-82f4-26a0ba28d25b button.colab-df-convert');\n",
              "        buttonEl.style.display =\n",
              "          google.colab.kernel.accessAllowed ? 'block' : 'none';\n",
              "\n",
              "        async function convertToInteractive(key) {\n",
              "          const element = document.querySelector('#df-97bc112c-3387-49df-82f4-26a0ba28d25b');\n",
              "          const dataTable =\n",
              "            await google.colab.kernel.invokeFunction('convertToInteractive',\n",
              "                                                     [key], {});\n",
              "          if (!dataTable) return;\n",
              "\n",
              "          const docLinkHtml = 'Like what you see? Visit the ' +\n",
              "            '<a target=\"_blank\" href=https://colab.research.google.com/notebooks/data_table.ipynb>data table notebook</a>'\n",
              "            + ' to learn more about interactive tables.';\n",
              "          element.innerHTML = '';\n",
              "          dataTable['output_type'] = 'display_data';\n",
              "          await google.colab.output.renderOutput(dataTable, element);\n",
              "          const docLink = document.createElement('div');\n",
              "          docLink.innerHTML = docLinkHtml;\n",
              "          element.appendChild(docLink);\n",
              "        }\n",
              "      </script>\n",
              "    </div>\n",
              "  </div>\n",
              "  "
            ]
          },
          "metadata": {},
          "execution_count": 68
        }
      ]
    },
    {
      "cell_type": "markdown",
      "source": [
        "Olhando o resumo estatístico, podemos confirmar que existem outliers no *dataset*, devido à:\n",
        "* O valor máximo da variável **price** destoando bastante em relação ao 152.00 (valor 75%);\n",
        "* O valor máximo da variável **minimum_nights** destoando bastante em relação ao 3 (valor 75%), além de ser muito maior do que os 365 dias.\n",
        "\n",
        "Além destes pontos, outra questão chamou bastante atenção, a variável **price** contém dados com o valor 0 (min). Este valor também pode ser considerado como outlier, porque não segue um comportamento normal. Portanto, deve ser retirado do *dataset*.\n"
      ],
      "metadata": {
        "id": "j6-36TkVoVQS"
      }
    },
    {
      "cell_type": "markdown",
      "source": [
        "#### Limpando Outliers\n",
        "\n",
        "O que são Outliers?\n",
        "\n",
        "\"Os outliers são dados que se diferenciam drasticamente de todos os outros. Em outras palavras, um outlier é um valor que foge da normalidade e que pode (e provavelmente irá) causar anomalias nos resultados obtidos por meio de algoritmos e sistemas de análise.\"\n",
        "\n",
        "\n"
      ],
      "metadata": {
        "id": "Bkfvvc5ZcMNM"
      }
    },
    {
      "cell_type": "markdown",
      "source": [
        "Para a nossa análise ser mais precisa iremos remover os dados que não condiz com a \"realidade\".\n",
        "\n",
        "para tratar os outliers desse conjunto de dados, iremos plotar graficos boxplots e calcular os limites utilizando a regra do IQR Score.\n",
        "\n",
        "Primeiramente, vamos lembrar o que é o IQR.\n",
        "\n",
        "O IQR é calculado subtraindo o Terceiro Quartil (75%) pelo Primeiro Quartil (25%). (Conforme analizado no resumo estatístico)\n",
        "\n",
        "![](https://raw.githubusercontent.com/pedrowillianprestes/sigmoidal_data_science/main/Box_Plot.png)\n",
        "\n",
        "# IQR = Q3 - Q1\n",
        "\n",
        "Vamos seguir os seguintes passos:\n",
        "\n",
        "* Definir o Q1 e Q3 para as variáveis que serão limpas.\n",
        "* Calcular o IQR para as variáveis.\n",
        "* Definir o limite superior e inferior para cortar os outliers.\n",
        "* Remover os outliers.\n",
        "\n",
        "\n"
      ],
      "metadata": {
        "id": "1RXB636anstZ"
      }
    },
    {
      "cell_type": "markdown",
      "source": [
        "##### Boxplot para price"
      ],
      "metadata": {
        "id": "E5CaURxecFBd"
      }
    },
    {
      "cell_type": "code",
      "source": [
        "# identificando os outliers para a variável price\n",
        "q1_price = df.price.quantile(.25)\n",
        "q3_price = df.price.quantile(.75)\n",
        "IQR_price = q3_price - q1_price\n",
        "print('IQR da variável price: ', IQR_price)\n",
        "\n",
        "# definindo os limites                                       \n",
        "sup_price = q3_price + 1.5 * IQR_price\n",
        "inf_price = q1_price - 1.5 * IQR_price\n",
        "\n",
        "print('Limite superior de price: ', sup_price)\n",
        "print('Limite inferior de price: ', inf_price)"
      ],
      "metadata": {
        "colab": {
          "base_uri": "https://localhost:8080/"
        },
        "id": "-GH8pQvCb2SW",
        "outputId": "d49262c6-e01d-476b-b81b-06658899a638"
      },
      "execution_count": 11,
      "outputs": [
        {
          "output_type": "stream",
          "name": "stdout",
          "text": [
            "IQR da variável price:  83.0\n",
            "Limite superior de price:  276.5\n",
            "Limite inferior de price:  -55.5\n"
          ]
        }
      ]
    },
    {
      "cell_type": "markdown",
      "source": [
        "Aqui podemos ver que, apesar de não termos outliers na parte inferior, continuamos tendo valores iguais a zero (Resumo estatístico), que precisam ser tratados.\n",
        "\n",
        "Vamos plotar um boxplot para visualizarmos a diferença feita pela limpeza."
      ],
      "metadata": {
        "id": "4A60k1kHcr0K"
      }
    },
    {
      "cell_type": "code",
      "source": [
        "# verificando o conjunto original\n",
        "fig, ax = plt.subplots(figsize=(15,3))\n",
        "df.price.plot(kind='box', vert=False);\n",
        "ax.set_title('Dataset Original - price')\n",
        "plt.show()\n",
        "print(\"O dataset possui {} colunas\".format(df.shape[0]))\n",
        "print(\"{} Entradas acima de 276.5\".format(len(df[df.price > 276.5])))\n",
        "print(\"Representam {:.2f}% do dataset\".format((len(df[df.price > 276.5]) / df.shape[0])*100))"
      ],
      "metadata": {
        "colab": {
          "base_uri": "https://localhost:8080/",
          "height": 279
        },
        "id": "HxdRpUSH-_uW",
        "outputId": "d5714873-3da1-4622-d1bf-08f03fb6a7f3"
      },
      "execution_count": 12,
      "outputs": [
        {
          "output_type": "display_data",
          "data": {
            "text/plain": [
              "<Figure size 1080x216 with 1 Axes>"
            ],
            "image/png": "[encoded data removed]"
          },
          "metadata": {
            "needs_background": "light"
          }
        },
        {
          "output_type": "stream",
          "name": "stdout",
          "text": [
            "O dataset possui 19643 colunas\n",
            "1439 Entradas acima de 276.5\n",
            "Representam 7.33% do dataset\n"
          ]
        }
      ]
    },
    {
      "cell_type": "markdown",
      "source": [
        "##### Boxplot para minimum_nights"
      ],
      "metadata": {
        "id": "4agnwP26pcdK"
      }
    },
    {
      "cell_type": "code",
      "source": [
        "# identificando os outliers para a variável minimum_nights\n",
        "q1_minimum_nights = df.minimum_nights.quantile(.25)\n",
        "q3_minimum_nights = df.minimum_nights.quantile(.75)\n",
        "IQR_minimum_nights = q3_minimum_nights - q1_minimum_nights\n",
        "print('IQR da variável minimum_nights: ', IQR_minimum_nights)\n",
        "\n",
        "# definindo os limites                                       \n",
        "sup_minimum_nights = q3_minimum_nights + 1.5 * IQR_minimum_nights\n",
        "inf_minimum_nights = q1_minimum_nights - 1.5 * IQR_minimum_nights\n",
        "\n",
        "print('Limite superior de minimum_nights: ', sup_minimum_nights)\n",
        "print('Limite inferior de minimum_nights: ', inf_minimum_nights)"
      ],
      "metadata": {
        "colab": {
          "base_uri": "https://localhost:8080/"
        },
        "id": "1ydNABavAqYV",
        "outputId": "14d6d786-7234-4cf6-878b-9e8c2c31508f"
      },
      "execution_count": 13,
      "outputs": [
        {
          "output_type": "stream",
          "name": "stdout",
          "text": [
            "IQR da variável minimum_nights:  2.0\n",
            "Limite superior de minimum_nights:  6.0\n",
            "Limite inferior de minimum_nights:  -2.0\n"
          ]
        }
      ]
    },
    {
      "cell_type": "code",
      "source": [
        "# verificando o conjunto original\n",
        "fig, ax = plt.subplots(figsize=(15,3))\n",
        "df.minimum_nights.plot(kind='box', vert=False);\n",
        "ax.set_title('Dataset Original - minimum_nights')\n",
        "plt.show()\n",
        "print(\"O dataset possui {} colunas\".format(df.shape[0]))\n",
        "print(\"{} Entradas acima de 6\".format(len(df[df.minimum_nights > 6.0])))\n",
        "print(\"Representam {:.2f}% do dataset\".format((len(df[df.minimum_nights > 6.0]) / df.shape[0])*100))"
      ],
      "metadata": {
        "colab": {
          "base_uri": "https://localhost:8080/",
          "height": 279
        },
        "id": "oGw7Na8YdcB0",
        "outputId": "ffed8bb9-0ec9-4ab2-816c-da705cb35f4f"
      },
      "execution_count": 14,
      "outputs": [
        {
          "output_type": "display_data",
          "data": {
            "text/plain": [
              "<Figure size 1080x216 with 1 Axes>"
            ],
            "image/png": "[encoded data removed]"
          },
          "metadata": {
            "needs_background": "light"
          }
        },
        {
          "output_type": "stream",
          "name": "stdout",
          "text": [
            "O dataset possui 19643 colunas\n",
            "1334 Entradas acima de 6\n",
            "Representam 6.79% do dataset\n"
          ]
        }
      ]
    },
    {
      "cell_type": "code",
      "source": [
        "# limpando o dataset\n",
        "df_clean = df.copy()\n",
        "\n",
        "df_clean.drop(df_clean[df_clean.price > 276.5].index, axis=0, inplace=True)\n",
        "df_clean.drop(df_clean[df_clean.price == 0.0].index, axis=0, inplace=True)\n",
        "df_clean.drop(df_clean[df_clean.minimum_nights > 6].index, axis=0, inplace=True)\n",
        "\n",
        "print('Shape antes da limpeza: ', df.shape)\n",
        "print('Shape após a limpeza: ',df_clean.shape)"
      ],
      "metadata": {
        "colab": {
          "base_uri": "https://localhost:8080/"
        },
        "id": "kWbMBmTyd3dE",
        "outputId": "21c9f31a-d98e-48e7-d6c1-15514205b6dd"
      },
      "execution_count": 15,
      "outputs": [
        {
          "output_type": "stream",
          "name": "stdout",
          "text": [
            "Shape antes da limpeza:  (19643, 15)\n",
            "Shape após a limpeza:  (16970, 15)\n"
          ]
        }
      ]
    },
    {
      "cell_type": "code",
      "source": [
        "# plotando novamente o boxplot original\n",
        "fig, ax = plt.subplots(figsize=(15,3))\n",
        "df.price.plot(kind='box', vert=False);\n",
        "ax.set_title('Dataset Original - price')\n",
        "plt.show()\n",
        "print(\"O dataset possui {} colunas\".format(df.shape[0]))\n",
        "print(\"{} Entradas acima de 276.5\".format(len(df[df.price > 276.5])))\n",
        "print(\"Representam {:.2f}% do dataset\".format((len(df[df.price > 276.5]) / df.shape[0])*100))"
      ],
      "metadata": {
        "colab": {
          "base_uri": "https://localhost:8080/",
          "height": 279
        },
        "id": "DuCOzZHtd6-c",
        "outputId": "417bc751-86f5-4ca4-8193-7be88fff8a9b"
      },
      "execution_count": 16,
      "outputs": [
        {
          "output_type": "display_data",
          "data": {
            "text/plain": [
              "<Figure size 1080x216 with 1 Axes>"
            ],
            "image/png": "[encoded data removed]"
          },
          "metadata": {
            "needs_background": "light"
          }
        },
        {
          "output_type": "stream",
          "name": "stdout",
          "text": [
            "O dataset possui 19643 colunas\n",
            "1439 Entradas acima de 276.5\n",
            "Representam 7.33% do dataset\n"
          ]
        }
      ]
    },
    {
      "cell_type": "code",
      "source": [
        "# verificando o conjunto limpo\n",
        "fig, ax = plt.subplots(figsize=(15,3))\n",
        "df_clean.price.plot(kind='box', vert=False);\n",
        "ax.set_title('Dataset Limpo - price')\n",
        "plt.show()\n",
        "print(\"Tamanho original: {} colunas\".format(df.shape[0]))\n",
        "print(\"Tamanho atual: {} colunas\".format(df_clean.shape[0]))"
      ],
      "metadata": {
        "colab": {
          "base_uri": "https://localhost:8080/",
          "height": 262
        },
        "id": "xYvbBefxd91E",
        "outputId": "9bad94b7-d1a0-44ad-b09a-6e127dc41ddb"
      },
      "execution_count": 17,
      "outputs": [
        {
          "output_type": "display_data",
          "data": {
            "text/plain": [
              "<Figure size 1080x216 with 1 Axes>"
            ],
            "image/png": "[encoded data removed]"
          },
          "metadata": {
            "needs_background": "light"
          }
        },
        {
          "output_type": "stream",
          "name": "stdout",
          "text": [
            "Tamanho original: 19643 colunas\n",
            "Tamanho atual: 16970 colunas\n"
          ]
        }
      ]
    },
    {
      "cell_type": "markdown",
      "source": [
        "Aqui podemos ver o resultado da limpeza.\n",
        "\n",
        "O boxplot mostra alguns dados como outliers, entretanto, esses estão sendo calculados em relação ao novo dataset, e nossa limpeza levou em consideração os quartis do dado original.\n",
        "\n",
        "Para garantirmos que não estamos lidando com outliers que vão prejudicar nossa análise, vamos checar os histogramas novamente."
      ],
      "metadata": {
        "id": "3As4kji1ejoX"
      }
    },
    {
      "cell_type": "markdown",
      "source": [
        "#### Histogramas sem *outliers*\n"
      ],
      "metadata": {
        "id": "SL1VYER8p4DR"
      }
    },
    {
      "cell_type": "code",
      "source": [
        "# plotar o histograma para as variáveis numéricas\n",
        "df_clean.hist(figsize=(15,10), grid=False);\n"
      ],
      "metadata": {
        "colab": {
          "base_uri": "https://localhost:8080/",
          "height": 607
        },
        "id": "g2MiFHtgA7G7",
        "outputId": "c5e035b7-521b-4ffc-c526-4c8d84fc5e2d"
      },
      "execution_count": 19,
      "outputs": [
        {
          "output_type": "display_data",
          "data": {
            "text/plain": [
              "<Figure size 1080x720 with 12 Axes>"
            ],
            "image/png": "[encoded data removed]"
          },
          "metadata": {
            "needs_background": "light"
          }
        }
      ]
    },
    {
      "cell_type": "code",
      "source": [
        "# verificando a distribuição estatística dos dados limpos\n",
        "df_clean.describe().round(1)"
      ],
      "metadata": {
        "colab": {
          "base_uri": "https://localhost:8080/",
          "height": 300
        },
        "id": "Y_uIBbhffZP3",
        "outputId": "efdc04fb-529e-4644-c624-0eab8174a833"
      },
      "execution_count": 20,
      "outputs": [
        {
          "output_type": "execute_result",
          "data": {
            "text/plain": [
              "                 id      host_id  latitude  longitude    price  \\\n",
              "count  1.697000e+04      16970.0   16970.0    16970.0  16970.0   \n",
              "mean   1.010759e+17  132272037.0      38.8       -9.2    108.1   \n",
              "std    2.332733e+17  139781972.7       0.1        0.1     55.6   \n",
              "min    6.499000e+03      14455.0      38.7       -9.5     10.0   \n",
              "25%    1.695633e+07   17163789.0      38.7       -9.3     67.0   \n",
              "50%    2.984577e+07   76127721.0      38.7       -9.1     97.0   \n",
              "75%    4.933469e+07  208933060.0      38.7       -9.1    140.0   \n",
              "max    7.144341e+17  478855996.0      39.3       -8.8    276.0   \n",
              "\n",
              "       minimum_nights  number_of_reviews  calculated_host_listings_count  \\\n",
              "count         16970.0            16970.0                         16970.0   \n",
              "mean              2.3               59.3                            16.6   \n",
              "std               1.2               84.8                            43.5   \n",
              "min               1.0                0.0                             1.0   \n",
              "25%               1.0                6.0                             1.0   \n",
              "50%               2.0               24.0                             4.0   \n",
              "75%               3.0               77.0                            12.0   \n",
              "max               6.0             1961.0                           292.0   \n",
              "\n",
              "       availability_365  number_of_reviews_ltm  \n",
              "count           16970.0                16970.0  \n",
              "mean              212.7                   15.7  \n",
              "std               124.0                   19.0  \n",
              "min                 0.0                    0.0  \n",
              "25%               102.0                    2.0  \n",
              "50%               256.0                    9.0  \n",
              "75%               323.0                   23.0  \n",
              "max               365.0                  525.0  "
            ],
            "text/html": [
              "\n",
              "  <div id=\"df-012b8046-94c8-4c86-8026-5d57e9239ee9\">\n",
              "    <div class=\"colab-df-container\">\n",
              "      <div>\n",
              "<style scoped>\n",
              "    .dataframe tbody tr th:only-of-type {\n",
              "        vertical-align: middle;\n",
              "    }\n",
              "\n",
              "    .dataframe tbody tr th {\n",
              "        vertical-align: top;\n",
              "    }\n",
              "\n",
              "    .dataframe thead th {\n",
              "        text-align: right;\n",
              "    }\n",
              "</style>\n",
              "<table border=\"1\" class=\"dataframe\">\n",
              "  <thead>\n",
              "    <tr style=\"text-align: right;\">\n",
              "      <th></th>\n",
              "      <th>id</th>\n",
              "      <th>host_id</th>\n",
              "      <th>latitude</th>\n",
              "      <th>longitude</th>\n",
              "      <th>price</th>\n",
              "      <th>minimum_nights</th>\n",
              "      <th>number_of_reviews</th>\n",
              "      <th>calculated_host_listings_count</th>\n",
              "      <th>availability_365</th>\n",
              "      <th>number_of_reviews_ltm</th>\n",
              "    </tr>\n",
              "  </thead>\n",
              "  <tbody>\n",
              "    <tr>\n",
              "      <th>count</th>\n",
              "      <td>1.697000e+04</td>\n",
              "      <td>16970.0</td>\n",
              "      <td>16970.0</td>\n",
              "      <td>16970.0</td>\n",
              "      <td>16970.0</td>\n",
              "      <td>16970.0</td>\n",
              "      <td>16970.0</td>\n",
              "      <td>16970.0</td>\n",
              "      <td>16970.0</td>\n",
              "      <td>16970.0</td>\n",
              "    </tr>\n",
              "    <tr>\n",
              "      <th>mean</th>\n",
              "      <td>1.010759e+17</td>\n",
              "      <td>132272037.0</td>\n",
              "      <td>38.8</td>\n",
              "      <td>-9.2</td>\n",
              "      <td>108.1</td>\n",
              "      <td>2.3</td>\n",
              "      <td>59.3</td>\n",
              "      <td>16.6</td>\n",
              "      <td>212.7</td>\n",
              "      <td>15.7</td>\n",
              "    </tr>\n",
              "    <tr>\n",
              "      <th>std</th>\n",
              "      <td>2.332733e+17</td>\n",
              "      <td>139781972.7</td>\n",
              "      <td>0.1</td>\n",
              "      <td>0.1</td>\n",
              "      <td>55.6</td>\n",
              "      <td>1.2</td>\n",
              "      <td>84.8</td>\n",
              "      <td>43.5</td>\n",
              "      <td>124.0</td>\n",
              "      <td>19.0</td>\n",
              "    </tr>\n",
              "    <tr>\n",
              "      <th>min</th>\n",
              "      <td>6.499000e+03</td>\n",
              "      <td>14455.0</td>\n",
              "      <td>38.7</td>\n",
              "      <td>-9.5</td>\n",
              "      <td>10.0</td>\n",
              "      <td>1.0</td>\n",
              "      <td>0.0</td>\n",
              "      <td>1.0</td>\n",
              "      <td>0.0</td>\n",
              "      <td>0.0</td>\n",
              "    </tr>\n",
              "    <tr>\n",
              "      <th>25%</th>\n",
              "      <td>1.695633e+07</td>\n",
              "      <td>17163789.0</td>\n",
              "      <td>38.7</td>\n",
              "      <td>-9.3</td>\n",
              "      <td>67.0</td>\n",
              "      <td>1.0</td>\n",
              "      <td>6.0</td>\n",
              "      <td>1.0</td>\n",
              "      <td>102.0</td>\n",
              "      <td>2.0</td>\n",
              "    </tr>\n",
              "    <tr>\n",
              "      <th>50%</th>\n",
              "      <td>2.984577e+07</td>\n",
              "      <td>76127721.0</td>\n",
              "      <td>38.7</td>\n",
              "      <td>-9.1</td>\n",
              "      <td>97.0</td>\n",
              "      <td>2.0</td>\n",
              "      <td>24.0</td>\n",
              "      <td>4.0</td>\n",
              "      <td>256.0</td>\n",
              "      <td>9.0</td>\n",
              "    </tr>\n",
              "    <tr>\n",
              "      <th>75%</th>\n",
              "      <td>4.933469e+07</td>\n",
              "      <td>208933060.0</td>\n",
              "      <td>38.7</td>\n",
              "      <td>-9.1</td>\n",
              "      <td>140.0</td>\n",
              "      <td>3.0</td>\n",
              "      <td>77.0</td>\n",
              "      <td>12.0</td>\n",
              "      <td>323.0</td>\n",
              "      <td>23.0</td>\n",
              "    </tr>\n",
              "    <tr>\n",
              "      <th>max</th>\n",
              "      <td>7.144341e+17</td>\n",
              "      <td>478855996.0</td>\n",
              "      <td>39.3</td>\n",
              "      <td>-8.8</td>\n",
              "      <td>276.0</td>\n",
              "      <td>6.0</td>\n",
              "      <td>1961.0</td>\n",
              "      <td>292.0</td>\n",
              "      <td>365.0</td>\n",
              "      <td>525.0</td>\n",
              "    </tr>\n",
              "  </tbody>\n",
              "</table>\n",
              "</div>\n",
              "      <button class=\"colab-df-convert\" onclick=\"convertToInteractive('df-012b8046-94c8-4c86-8026-5d57e9239ee9')\"\n",
              "              title=\"Convert this dataframe to an interactive table.\"\n",
              "              style=\"display:none;\">\n",
              "        \n",
              "  <svg xmlns=\"http://www.w3.org/2000/svg\" height=\"24px\"viewBox=\"0 0 24 24\"\n",
              "       width=\"24px\">\n",
              "    <path d=\"M0 0h24v24H0V0z\" fill=\"none\"/>\n",
              "    <path d=\"M18.56 5.44l.94 2.06.94-2.06 2.06-.94-2.06-.94-.94-2.06-.94 2.06-2.06.94zm-11 1L8.5 8.5l.94-2.06 2.06-.94-2.06-.94L8.5 2.5l-.94 2.06-2.06.94zm10 10l.94 2.06.94-2.06 2.06-.94-2.06-.94-.94-2.06-.94 2.06-2.06.94z\"/><path d=\"M17.41 7.96l-1.37-1.37c-.4-.4-.92-.59-1.43-.59-.52 0-1.04.2-1.43.59L10.3 9.45l-7.72 7.72c-.78.78-.78 2.05 0 2.83L4 21.41c.39.39.9.59 1.41.59.51 0 1.02-.2 1.41-.59l7.78-7.78 2.81-2.81c.8-.78.8-2.07 0-2.86zM5.41 20L4 18.59l7.72-7.72 1.47 1.35L5.41 20z\"/>\n",
              "  </svg>\n",
              "      </button>\n",
              "      \n",
              "  <style>\n",
              "    .colab-df-container {\n",
              "      display:flex;\n",
              "      flex-wrap:wrap;\n",
              "      gap: 12px;\n",
              "    }\n",
              "\n",
              "    .colab-df-convert {\n",
              "      background-color: #E8F0FE;\n",
              "      border: none;\n",
              "      border-radius: 50%;\n",
              "      cursor: pointer;\n",
              "      display: none;\n",
              "      fill: #1967D2;\n",
              "      height: 32px;\n",
              "      padding: 0 0 0 0;\n",
              "      width: 32px;\n",
              "    }\n",
              "\n",
              "    .colab-df-convert:hover {\n",
              "      background-color: #E2EBFA;\n",
              "      box-shadow: 0px 1px 2px rgba(60, 64, 67, 0.3), 0px 1px 3px 1px rgba(60, 64, 67, 0.15);\n",
              "      fill: #174EA6;\n",
              "    }\n",
              "\n",
              "    [theme=dark] .colab-df-convert {\n",
              "      background-color: #3B4455;\n",
              "      fill: #D2E3FC;\n",
              "    }\n",
              "\n",
              "    [theme=dark] .colab-df-convert:hover {\n",
              "      background-color: #434B5C;\n",
              "      box-shadow: 0px 1px 3px 1px rgba(0, 0, 0, 0.15);\n",
              "      filter: drop-shadow(0px 1px 2px rgba(0, 0, 0, 0.3));\n",
              "      fill: #FFFFFF;\n",
              "    }\n",
              "  </style>\n",
              "\n",
              "      <script>\n",
              "        const buttonEl =\n",
              "          document.querySelector('#df-012b8046-94c8-4c86-8026-5d57e9239ee9 button.colab-df-convert');\n",
              "        buttonEl.style.display =\n",
              "          google.colab.kernel.accessAllowed ? 'block' : 'none';\n",
              "\n",
              "        async function convertToInteractive(key) {\n",
              "          const element = document.querySelector('#df-012b8046-94c8-4c86-8026-5d57e9239ee9');\n",
              "          const dataTable =\n",
              "            await google.colab.kernel.invokeFunction('convertToInteractive',\n",
              "                                                     [key], {});\n",
              "          if (!dataTable) return;\n",
              "\n",
              "          const docLinkHtml = 'Like what you see? Visit the ' +\n",
              "            '<a target=\"_blank\" href=https://colab.research.google.com/notebooks/data_table.ipynb>data table notebook</a>'\n",
              "            + ' to learn more about interactive tables.';\n",
              "          element.innerHTML = '';\n",
              "          dataTable['output_type'] = 'display_data';\n",
              "          await google.colab.output.renderOutput(dataTable, element);\n",
              "          const docLink = document.createElement('div');\n",
              "          docLink.innerHTML = docLinkHtml;\n",
              "          element.appendChild(docLink);\n",
              "        }\n",
              "      </script>\n",
              "    </div>\n",
              "  </div>\n",
              "  "
            ]
          },
          "metadata": {},
          "execution_count": 20
        }
      ]
    },
    {
      "cell_type": "markdown",
      "source": [
        "Analisando novamente o resumo estatístico acima, temos os dados mais condizentes com a realidade."
      ],
      "metadata": {
        "id": "azFeNvI0rZC6"
      }
    },
    {
      "cell_type": "code",
      "metadata": {
        "id": "ff-8gUahLk-C",
        "colab": {
          "base_uri": "https://localhost:8080/"
        },
        "outputId": "06c3b404-aca3-417c-8054-ad47089e0e40"
      },
      "source": [
        "# ver a média da coluna `price``\n",
        "\n",
        "print('O preço médio é de {} Euros'.format(df_clean.price.mean().round(2)))\n",
        "print('A mediana do preço é {} Euros'.format(df_clean.price.median()))\n",
        "print('A moda do preço é {} Euros'.format(df_clean.price.mode()[0]))"
      ],
      "execution_count": 26,
      "outputs": [
        {
          "output_type": "stream",
          "name": "stdout",
          "text": [
            "O preço médio é de 108.12 Euros\n",
            "A mediana do preço é 97.0 Euros\n",
            "A moda do preço é 80 Euros\n"
          ]
        }
      ]
    },
    {
      "cell_type": "markdown",
      "metadata": {
        "id": "IXn2oIo5qx-w"
      },
      "source": [
        "### **Q5. Qual a correlação existente entre as variáveis**\n",
        "\n",
        "Correlação significa que existe uma relação entre duas coisas. No nosso contexto, estamos buscando relação ou semelhança entre duas variáveis.\n",
        "\n",
        "Essa relação pode ser medida, e é função do coeficiente de correlação estabelecer qual a intensidade dela. Para identificar as correlações existentes entre as variáveis de interesse, vou:\n",
        "\n",
        "* Criar uma matriz de correlação\n",
        "* Gerar um *heatmap* a partir dessa matriz, usando a biblioteca `seaborn`"
      ]
    },
    {
      "cell_type": "code",
      "metadata": {
        "id": "x2ayzBajqxyd",
        "colab": {
          "base_uri": "https://localhost:8080/",
          "height": 206
        },
        "outputId": "471f57df-e592-43f4-e9e5-366ed1110d33"
      },
      "source": [
        "# criar uma matriz de correlação\n",
        "corr = df_clean[['price', 'minimum_nights', 'number_of_reviews',\n",
        "    'calculated_host_listings_count', 'availability_365']].corr()\n",
        "\n",
        "# mostrar a matriz de correlação\n",
        "display(corr)"
      ],
      "execution_count": 27,
      "outputs": [
        {
          "output_type": "display_data",
          "data": {
            "text/plain": [
              "                                   price  minimum_nights  number_of_reviews  \\\n",
              "price                           1.000000        0.022871          -0.064109   \n",
              "minimum_nights                  0.022871        1.000000          -0.006526   \n",
              "number_of_reviews              -0.064109       -0.006526           1.000000   \n",
              "calculated_host_listings_count  0.138568       -0.174342          -0.093085   \n",
              "availability_365                0.131316       -0.130159          -0.000494   \n",
              "\n",
              "                                calculated_host_listings_count  \\\n",
              "price                                                 0.138568   \n",
              "minimum_nights                                       -0.174342   \n",
              "number_of_reviews                                    -0.093085   \n",
              "calculated_host_listings_count                        1.000000   \n",
              "availability_365                                      0.065948   \n",
              "\n",
              "                                availability_365  \n",
              "price                                   0.131316  \n",
              "minimum_nights                         -0.130159  \n",
              "number_of_reviews                      -0.000494  \n",
              "calculated_host_listings_count          0.065948  \n",
              "availability_365                        1.000000  "
            ],
            "text/html": [
              "\n",
              "  <div id=\"df-a3cb1944-690b-43b5-b5fb-be874f8baa97\">\n",
              "    <div class=\"colab-df-container\">\n",
              "      <div>\n",
              "<style scoped>\n",
              "    .dataframe tbody tr th:only-of-type {\n",
              "        vertical-align: middle;\n",
              "    }\n",
              "\n",
              "    .dataframe tbody tr th {\n",
              "        vertical-align: top;\n",
              "    }\n",
              "\n",
              "    .dataframe thead th {\n",
              "        text-align: right;\n",
              "    }\n",
              "</style>\n",
              "<table border=\"1\" class=\"dataframe\">\n",
              "  <thead>\n",
              "    <tr style=\"text-align: right;\">\n",
              "      <th></th>\n",
              "      <th>price</th>\n",
              "      <th>minimum_nights</th>\n",
              "      <th>number_of_reviews</th>\n",
              "      <th>calculated_host_listings_count</th>\n",
              "      <th>availability_365</th>\n",
              "    </tr>\n",
              "  </thead>\n",
              "  <tbody>\n",
              "    <tr>\n",
              "      <th>price</th>\n",
              "      <td>1.000000</td>\n",
              "      <td>0.022871</td>\n",
              "      <td>-0.064109</td>\n",
              "      <td>0.138568</td>\n",
              "      <td>0.131316</td>\n",
              "    </tr>\n",
              "    <tr>\n",
              "      <th>minimum_nights</th>\n",
              "      <td>0.022871</td>\n",
              "      <td>1.000000</td>\n",
              "      <td>-0.006526</td>\n",
              "      <td>-0.174342</td>\n",
              "      <td>-0.130159</td>\n",
              "    </tr>\n",
              "    <tr>\n",
              "      <th>number_of_reviews</th>\n",
              "      <td>-0.064109</td>\n",
              "      <td>-0.006526</td>\n",
              "      <td>1.000000</td>\n",
              "      <td>-0.093085</td>\n",
              "      <td>-0.000494</td>\n",
              "    </tr>\n",
              "    <tr>\n",
              "      <th>calculated_host_listings_count</th>\n",
              "      <td>0.138568</td>\n",
              "      <td>-0.174342</td>\n",
              "      <td>-0.093085</td>\n",
              "      <td>1.000000</td>\n",
              "      <td>0.065948</td>\n",
              "    </tr>\n",
              "    <tr>\n",
              "      <th>availability_365</th>\n",
              "      <td>0.131316</td>\n",
              "      <td>-0.130159</td>\n",
              "      <td>-0.000494</td>\n",
              "      <td>0.065948</td>\n",
              "      <td>1.000000</td>\n",
              "    </tr>\n",
              "  </tbody>\n",
              "</table>\n",
              "</div>\n",
              "      <button class=\"colab-df-convert\" onclick=\"convertToInteractive('df-a3cb1944-690b-43b5-b5fb-be874f8baa97')\"\n",
              "              title=\"Convert this dataframe to an interactive table.\"\n",
              "              style=\"display:none;\">\n",
              "        \n",
              "  <svg xmlns=\"http://www.w3.org/2000/svg\" height=\"24px\"viewBox=\"0 0 24 24\"\n",
              "       width=\"24px\">\n",
              "    <path d=\"M0 0h24v24H0V0z\" fill=\"none\"/>\n",
              "    <path d=\"M18.56 5.44l.94 2.06.94-2.06 2.06-.94-2.06-.94-.94-2.06-.94 2.06-2.06.94zm-11 1L8.5 8.5l.94-2.06 2.06-.94-2.06-.94L8.5 2.5l-.94 2.06-2.06.94zm10 10l.94 2.06.94-2.06 2.06-.94-2.06-.94-.94-2.06-.94 2.06-2.06.94z\"/><path d=\"M17.41 7.96l-1.37-1.37c-.4-.4-.92-.59-1.43-.59-.52 0-1.04.2-1.43.59L10.3 9.45l-7.72 7.72c-.78.78-.78 2.05 0 2.83L4 21.41c.39.39.9.59 1.41.59.51 0 1.02-.2 1.41-.59l7.78-7.78 2.81-2.81c.8-.78.8-2.07 0-2.86zM5.41 20L4 18.59l7.72-7.72 1.47 1.35L5.41 20z\"/>\n",
              "  </svg>\n",
              "      </button>\n",
              "      \n",
              "  <style>\n",
              "    .colab-df-container {\n",
              "      display:flex;\n",
              "      flex-wrap:wrap;\n",
              "      gap: 12px;\n",
              "    }\n",
              "\n",
              "    .colab-df-convert {\n",
              "      background-color: #E8F0FE;\n",
              "      border: none;\n",
              "      border-radius: 50%;\n",
              "      cursor: pointer;\n",
              "      display: none;\n",
              "      fill: #1967D2;\n",
              "      height: 32px;\n",
              "      padding: 0 0 0 0;\n",
              "      width: 32px;\n",
              "    }\n",
              "\n",
              "    .colab-df-convert:hover {\n",
              "      background-color: #E2EBFA;\n",
              "      box-shadow: 0px 1px 2px rgba(60, 64, 67, 0.3), 0px 1px 3px 1px rgba(60, 64, 67, 0.15);\n",
              "      fill: #174EA6;\n",
              "    }\n",
              "\n",
              "    [theme=dark] .colab-df-convert {\n",
              "      background-color: #3B4455;\n",
              "      fill: #D2E3FC;\n",
              "    }\n",
              "\n",
              "    [theme=dark] .colab-df-convert:hover {\n",
              "      background-color: #434B5C;\n",
              "      box-shadow: 0px 1px 3px 1px rgba(0, 0, 0, 0.15);\n",
              "      filter: drop-shadow(0px 1px 2px rgba(0, 0, 0, 0.3));\n",
              "      fill: #FFFFFF;\n",
              "    }\n",
              "  </style>\n",
              "\n",
              "      <script>\n",
              "        const buttonEl =\n",
              "          document.querySelector('#df-a3cb1944-690b-43b5-b5fb-be874f8baa97 button.colab-df-convert');\n",
              "        buttonEl.style.display =\n",
              "          google.colab.kernel.accessAllowed ? 'block' : 'none';\n",
              "\n",
              "        async function convertToInteractive(key) {\n",
              "          const element = document.querySelector('#df-a3cb1944-690b-43b5-b5fb-be874f8baa97');\n",
              "          const dataTable =\n",
              "            await google.colab.kernel.invokeFunction('convertToInteractive',\n",
              "                                                     [key], {});\n",
              "          if (!dataTable) return;\n",
              "\n",
              "          const docLinkHtml = 'Like what you see? Visit the ' +\n",
              "            '<a target=\"_blank\" href=https://colab.research.google.com/notebooks/data_table.ipynb>data table notebook</a>'\n",
              "            + ' to learn more about interactive tables.';\n",
              "          element.innerHTML = '';\n",
              "          dataTable['output_type'] = 'display_data';\n",
              "          await google.colab.output.renderOutput(dataTable, element);\n",
              "          const docLink = document.createElement('div');\n",
              "          docLink.innerHTML = docLinkHtml;\n",
              "          element.appendChild(docLink);\n",
              "        }\n",
              "      </script>\n",
              "    </div>\n",
              "  </div>\n",
              "  "
            ]
          },
          "metadata": {}
        }
      ]
    },
    {
      "cell_type": "code",
      "metadata": {
        "id": "91UujDr6ueqE",
        "colab": {
          "base_uri": "https://localhost:8080/",
          "height": 520
        },
        "outputId": "d9b2f3d9-3955-4937-982e-54ae053e4c70"
      },
      "source": [
        "# plotar um heatmap a partir das correlações\n",
        "fig= plt.figure(figsize=(8,6))\n",
        "sns.heatmap(corr, cmap='RdBu', fmt='.2f', square=True, linecolor='white', annot=True);"
      ],
      "execution_count": 28,
      "outputs": [
        {
          "output_type": "display_data",
          "data": {
            "text/plain": [
              "<Figure size 576x432 with 2 Axes>"
            ],
            "image/png": "[encoded data removed]"
          },
          "metadata": {
            "needs_background": "light"
          }
        }
      ]
    },
    {
      "cell_type": "markdown",
      "metadata": {
        "id": "7b6RMWpuHKN-"
      },
      "source": [
        "### **Q6. Qual o tipo de imóvel mais alugado no Airbnb?**\n",
        "A coluna da variável `room_type` indica o tipo de locação que está anunciada no Airbnb. Se você já utilizou-se do serviço, sabe que existem opções de apartamentos/casas inteiras, apenas o aluguel de um quarto ou mesmo dividir o quarto com outras pessoas.\n",
        "\n",
        "Vamos contar a quantidade de ocorrências de cada tipo de aluguel, usando o método `value_counts()`."
      ]
    },
    {
      "cell_type": "code",
      "metadata": {
        "id": "ueLPNWvPHgfB",
        "colab": {
          "base_uri": "https://localhost:8080/"
        },
        "outputId": "a4166a8c-6628-42b3-ea7a-50102c2a55a5"
      },
      "source": [
        "# mostrar a quantidade de cada tipo de imóvel disponível\n",
        "df_clean.room_type.value_counts()"
      ],
      "execution_count": 29,
      "outputs": [
        {
          "output_type": "execute_result",
          "data": {
            "text/plain": [
              "Entire home/apt    12963\n",
              "Private room        3588\n",
              "Shared room          221\n",
              "Hotel room           198\n",
              "Name: room_type, dtype: int64"
            ]
          },
          "metadata": {},
          "execution_count": 29
        }
      ]
    },
    {
      "cell_type": "code",
      "source": [
        "#gráfico representando por tipo de imóvel\n",
        "plt.figure(figsize=(15,5))\n",
        "sns.countplot(df_clean['room_type'])\n",
        "plt.title('Tipos de imóveis para se alugar');"
      ],
      "metadata": {
        "colab": {
          "base_uri": "https://localhost:8080/",
          "height": 385
        },
        "id": "2DJlc4l65013",
        "outputId": "c1e30bd8-5033-4ed5-ec06-f611b766ae9f"
      },
      "execution_count": 95,
      "outputs": [
        {
          "output_type": "stream",
          "name": "stderr",
          "text": [
            "/usr/local/lib/python3.8/dist-packages/seaborn/_decorators.py:36: FutureWarning: Pass the following variable as a keyword arg: x. From version 0.12, the only valid positional argument will be `data`, and passing other arguments without an explicit keyword will result in an error or misinterpretation.\n",
            "  warnings.warn(\n"
          ]
        },
        {
          "output_type": "display_data",
          "data": {
            "text/plain": [
              "<Figure size 1080x360 with 1 Axes>"
            ],
            "image/png": "[encoded data removed]"
          },
          "metadata": {
            "needs_background": "light"
          }
        }
      ]
    },
    {
      "cell_type": "code",
      "metadata": {
        "id": "EvwoO-XAHhIm",
        "colab": {
          "base_uri": "https://localhost:8080/",
          "height": 175
        },
        "outputId": "70a76f16-c0eb-4204-e440-38bffccdbe9d"
      },
      "source": [
        "# mostrar a porcentagem de cada tipo de imóvel disponível\n",
        "a = (df_clean.room_type.value_counts() / df_clean.shape[0])\n",
        "df_clean_a = pd.DataFrame(a)\n",
        "df_clean_a.style.format('{:.2%}')"
      ],
      "execution_count": 94,
      "outputs": [
        {
          "output_type": "execute_result",
          "data": {
            "text/plain": [
              "<pandas.io.formats.style.Styler at 0x7fc49dc8da00>"
            ],
            "text/html": [
              "<style type=\"text/css\">\n",
              "</style>\n",
              "<table id=\"T_01a9f_\" class=\"dataframe\">\n",
              "  <thead>\n",
              "    <tr>\n",
              "      <th class=\"blank level0\" >&nbsp;</th>\n",
              "      <th class=\"col_heading level0 col0\" >room_type</th>\n",
              "    </tr>\n",
              "  </thead>\n",
              "  <tbody>\n",
              "    <tr>\n",
              "      <th id=\"T_01a9f_level0_row0\" class=\"row_heading level0 row0\" >Entire home/apt</th>\n",
              "      <td id=\"T_01a9f_row0_col0\" class=\"data row0 col0\" >76.39%</td>\n",
              "    </tr>\n",
              "    <tr>\n",
              "      <th id=\"T_01a9f_level0_row1\" class=\"row_heading level0 row1\" >Private room</th>\n",
              "      <td id=\"T_01a9f_row1_col0\" class=\"data row1 col0\" >21.14%</td>\n",
              "    </tr>\n",
              "    <tr>\n",
              "      <th id=\"T_01a9f_level0_row2\" class=\"row_heading level0 row2\" >Shared room</th>\n",
              "      <td id=\"T_01a9f_row2_col0\" class=\"data row2 col0\" >1.30%</td>\n",
              "    </tr>\n",
              "    <tr>\n",
              "      <th id=\"T_01a9f_level0_row3\" class=\"row_heading level0 row3\" >Hotel room</th>\n",
              "      <td id=\"T_01a9f_row3_col0\" class=\"data row3 col0\" >1.17%</td>\n",
              "    </tr>\n",
              "  </tbody>\n",
              "</table>\n"
            ]
          },
          "metadata": {},
          "execution_count": 94
        }
      ]
    },
    {
      "cell_type": "markdown",
      "source": [
        "A saída do comando nos mostra a porcetagem dos imóveis, em que:\n",
        "\n",
        "**76%** casa ou apartamento;\n",
        "\n",
        "**21%** quartos individuais;\n",
        "\n",
        "**0.1%** quartos compartilhados;\n",
        "\n",
        "o restante dos imóveis são quartos de hotéis.\n",
        "\n"
      ],
      "metadata": {
        "id": "ELDJq7GasX5h"
      }
    },
    {
      "cell_type": "markdown",
      "source": [
        "O imóvel do tipo apartamento/casa (Entire home/apt) é o mais ofertado no Airbnb para a cidade de Lisboa, representando cerca de 76% das propriedades do dataset.\n",
        "\n",
        "O segundo tipo de imóvel mais ofertado é o quarto privativo (Private room), representando cerca de 21%."
      ],
      "metadata": {
        "id": "djMc1ojYI2gb"
      }
    },
    {
      "cell_type": "markdown",
      "metadata": {
        "id": "MFa5NbnLJMcd"
      },
      "source": [
        "### **Q7. Qual a localidade mais cara do dataset?**\n",
        "\n",
        "Uma maneira de se verificar uma variável em função da outra é usando `groupby()`. No caso, queremos comparar os bairros (*neighbourhoods*) a partir do preço de locação."
      ]
    },
    {
      "cell_type": "code",
      "metadata": {
        "id": "MD_xa143JZpi",
        "colab": {
          "base_uri": "https://localhost:8080/",
          "height": 265
        },
        "outputId": "89137d24-92e0-4bc6-db6d-54ae516c2bb7"
      },
      "source": [
        "# ver preços por bairros, na média\n",
        "df_clean.groupby(['neighbourhood']).price.mean().sort_values(ascending=False)[:10].plot(kind='barh');"
      ],
      "execution_count": 108,
      "outputs": [
        {
          "output_type": "display_data",
          "data": {
            "text/plain": [
              "<Figure size 432x288 with 1 Axes>"
            ],
            "image/png": "[encoded data removed]"
          },
          "metadata": {
            "needs_background": "light"
          }
        }
      ]
    },
    {
      "cell_type": "markdown",
      "source": [
        "Acima, vemos que o bairro de Aveiras de Baixo e Vale do Paraso está com média de preço superior ao de outras regiões, porém possuem apenas 1 entrada cada.\n",
        "\n",
        "Uma pessoa que não conhecesse Lisboa poderia apresentar esses resultados sem se questionar.\n",
        "Só para dar um único exemplo de como uma amostra pode ser não-representativa, veja quantas entradas há para Aveiras de Baixo, Vale do Paraso e Vermelha:"
      ],
      "metadata": {
        "id": "hygTZhjPtJQJ"
      }
    },
    {
      "cell_type": "code",
      "source": [
        "# definindo variáveis para ver a quantidade de imóveis de cada região\n",
        "\n",
        "avb = df_clean[df_clean.neighbourhood == 'Aveiras de Baixo'].shape[0]\n",
        "\n",
        "vap = df_clean[df_clean.neighbourhood == 'Vale do Paraso'].shape[0]\n",
        "\n",
        "ver = df_clean[df_clean.neighbourhood == 'Vermelha'].shape[0]\n",
        "\n",
        "agm = df_clean[df_clean.neighbourhood == 'Aldeia Galega da Merceana e Aldeia Gavinha'].shape[0]\n",
        "\n",
        "tur = df_clean[df_clean.neighbourhood == 'Turcifal'].shape[0]\n",
        "\n",
        "# Imprimindo o número de imóveis em cada região\n",
        "print('O número de imóveis em Aveiras de Baixo é :\\t {}'.format(avb))\n",
        "\n",
        "print('O número de imóveis em Dn Vale do Paraso é :\\t {}'.format(vap))\n",
        "\n",
        "print('O número de imóveis em Vermelha é :      \\t {}'.format(ver))\n",
        "\n",
        "print('O número de imóveis em Aldeia Galega é :\\t {}'.format(agm))\n",
        "\n",
        "print('O número de imóveis em Turcifal é :      \\t {}'.format(tur))"
      ],
      "metadata": {
        "colab": {
          "base_uri": "https://localhost:8080/"
        },
        "id": "gahlkMGatKm6",
        "outputId": "914a906f-1c3a-4734-f529-5bdc552e255f"
      },
      "execution_count": 63,
      "outputs": [
        {
          "output_type": "stream",
          "name": "stdout",
          "text": [
            "O número de imóveis em Aveiras de Baixo é :\t 1\n",
            "O número de imóveis em Dn Vale do Paraso é :\t 1\n",
            "O número de imóveis em Vermelha é :      \t 4\n",
            "O número de imóveis em Aldeia Galega é :\t 3\n",
            "O número de imóveis em Turcifal é :      \t 5\n"
          ]
        }
      ]
    },
    {
      "cell_type": "code",
      "source": [
        "#quantidade de imóveis por bairro\n",
        "df_clean.neighbourhood.value_counts()"
      ],
      "metadata": {
        "colab": {
          "base_uri": "https://localhost:8080/"
        },
        "id": "n6d2TNl3hWqj",
        "outputId": "f9d69827-a65a-42ff-9145-302c34010d1d"
      },
      "execution_count": 64,
      "outputs": [
        {
          "output_type": "execute_result",
          "data": {
            "text/plain": [
              "Santa Maria Maior     2827\n",
              "Misericrdia           2097\n",
              "Arroios               1502\n",
              "Cascais e Estoril     1068\n",
              "So Vicente             948\n",
              "                      ... \n",
              "Vale do Paraso           1\n",
              "Aveiras de Baixo         1\n",
              "Painho e Figueiros       1\n",
              "Alcoentre                1\n",
              "Alguber                  1\n",
              "Name: neighbourhood, Length: 126, dtype: int64"
            ]
          },
          "metadata": {},
          "execution_count": 64
        }
      ]
    },
    {
      "cell_type": "code",
      "metadata": {
        "id": "UxVJqJ_3W59I",
        "colab": {
          "base_uri": "https://localhost:8080/",
          "height": 472
        },
        "outputId": "e4bac37f-be1f-445a-9cb1-bd08696ee631"
      },
      "source": [
        "# plotar os imóveis pela latitude-longitude\n",
        "df.plot(kind=\"scatter\", x='longitude', y='latitude', alpha=0.4, c=df['price'], s=8,\n",
        "              cmap=plt.get_cmap('jet'), figsize=(12,8));"
      ],
      "execution_count": 61,
      "outputs": [
        {
          "output_type": "display_data",
          "data": {
            "text/plain": [
              "<Figure size 864x576 with 2 Axes>"
            ],
            "image/png": "[encoded data removed]"
          },
          "metadata": {
            "needs_background": "light"
          }
        }
      ]
    },
    {
      "cell_type": "markdown",
      "metadata": {
        "id": "vTneAMRUYvr1"
      },
      "source": [
        "### **Q8. Qual é a média do mínimo de noites para aluguel (minimum_nights)?**\n",
        "\n",
        "Por fim, vamos avaliar a média de noites em Lisboa."
      ]
    },
    {
      "cell_type": "code",
      "metadata": {
        "id": "_VzNhrEgY82N",
        "colab": {
          "base_uri": "https://localhost:8080/"
        },
        "outputId": "d1a38383-1cc1-454d-83ce-1b4601370829"
      },
      "source": [
        "# ver a média da coluna `minimum_nights``\n",
        "print(\"A média do mínimo de noites é aproximadamente\",round(df_clean['minimum_nights'].mean(),0))"
      ],
      "execution_count": 62,
      "outputs": [
        {
          "output_type": "stream",
          "name": "stdout",
          "text": [
            "A média do mínimo de noites é aproximadamente 2.0\n"
          ]
        }
      ]
    },
    {
      "cell_type": "markdown",
      "source": [
        "A média de noites é de aproximadamente 2 dias."
      ],
      "metadata": {
        "id": "mNhQyqsTID3f"
      }
    },
    {
      "cell_type": "markdown",
      "metadata": {
        "id": "GkvAg623RjoR"
      },
      "source": [
        "## Conclusões\n"
      ]
    },
    {
      "cell_type": "markdown",
      "metadata": {
        "id": "rbZ3Hsy9Ypw8"
      },
      "source": [
        "Foi feita apenas uma análise superficial na base de dados do Airbnb versão resumida, porém já se percebeu que existem *outliers* em algumas das variáveis. É recomendado utilizar o dataset mais completo para obter uma análise com maior precisão. \n",
        "\n",
        "Também se notou que em algumas localidades há poucos imóveis disponíveis, o que pode distorcer as informações estatísticas de alguns atributos.\n",
        "\n",
        "Após a fase de tratamento de dados, foi possível concluir que o aluguel de um imóvel custa em média 108 euros e de noites para reservar a propriedade é de 2 dias. Tipo de imóvel mais ofertado é do tipo apartamento/casa.\n",
        "\n",
        "Além disso, com a finalidade de conhecer os 10 bairros mais caros em Lisboa, tivemos uma certa dificuldade a respeito dos dados. Apesar do tratamento realizado, alguns bairros ainda possuíam poucos eventos, podendo trazer uma falsa compreensão a respeito desta informação. "
      ]
    }
  ]
}